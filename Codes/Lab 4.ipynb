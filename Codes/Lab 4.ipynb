{
 "cells": [
  {
   "cell_type": "code",
   "execution_count": 1,
   "id": "1b02fb90",
   "metadata": {},
   "outputs": [],
   "source": [
    "import numpy as np\n",
    "import pandas as pd\n",
    "import matplotlib.pyplot as plt\n",
    "from scipy.interpolate import interp1d"
   ]
  },
  {
   "cell_type": "code",
   "execution_count": 2,
   "id": "4ecd31f2",
   "metadata": {},
   "outputs": [],
   "source": [
    "#Question 1"
   ]
  },
  {
   "cell_type": "code",
   "execution_count": 4,
   "id": "60f0283f",
   "metadata": {},
   "outputs": [
    {
     "name": "stdout",
     "output_type": "stream",
     "text": [
      "A is not diagonally dominant for row: 2\n",
      "A is not diagonally dominant for row: 3\n",
      "A is not diagonally dominant\n"
     ]
    }
   ],
   "source": [
    "#(a)\n",
    "A=np.array([[-6,2,1,2,1],[3,8,-4,1,0],[-1,1,4,10,1],[3,-4,1,9,2],[2,0,1,3,10]])\n",
    "r=5\n",
    "c=5\n",
    "\n",
    "# for i in range (r):\n",
    "#     a=[]\n",
    "#     for j in range (c):\n",
    "#         a.append(int(input()))\n",
    "#     A.append(a)\n",
    "# for i in range (r):\n",
    "#     for j in range (c):\n",
    "#         print(A[i][j],end=\" \")\n",
    "#     print ()\n",
    "dummy=0\n",
    "for i in range (r):\n",
    "    sumd=0\n",
    "    sumnd=0\n",
    "    for j in range (c):\n",
    "        if i==j:\n",
    "            sumd=abs(sumd+abs(A[i][j]))\n",
    "        else:\n",
    "            sumnd=abs(sumnd+abs(A[i][j]))\n",
    "    if sumd>=sumnd:\n",
    "        continue\n",
    "    else:\n",
    "        dummy=1\n",
    "        print(\"A is not diagonally dominant for row:\",i)\n",
    "if dummy==0:\n",
    "    print(\"A is not diagonally dominant\")\n",
    "else:\n",
    "    print(\"A is not diagonally dominant\")"
   ]
  },
  {
   "cell_type": "code",
   "execution_count": 6,
   "id": "975dd25f",
   "metadata": {},
   "outputs": [
    {
     "name": "stdout",
     "output_type": "stream",
     "text": [
      "[-1.1222592  -1.3890687  -4.24606829  1.49505402  0.30054246]\n"
     ]
    }
   ],
   "source": [
    "#(b)\n",
    "def g_s(A,x,b):\n",
    "    m=len(A)\n",
    "    for i in range (5000):\n",
    "        for j in range (m):\n",
    "            diff=b[j]\n",
    "            for k in range (0,m):\n",
    "                if j!=k:\n",
    "                    diff=diff-A[j][k]*x[k]\n",
    "            x[j]=(diff)/A[j][j]\n",
    "    return x\n",
    "A=np.array([[-6,2,1,2,1],[3,8,-4,1,0],[-1,1,4,10,1],[3,-4,1,9,2],[2,0,1,3,10]])\n",
    "b=np.array([3,4,-2,12,1])\n",
    "x=np.array([0.0,0.0,0.0,0.0,0.0])\n",
    "print(g_s(A,x,b))"
   ]
  },
  {
   "cell_type": "code",
   "execution_count": 7,
   "id": "6e82c147",
   "metadata": {},
   "outputs": [
    {
     "data": {
      "text/plain": [
       "array([-1.12218733, -1.38874481, -4.24611322,  1.4951738 ,  0.30049665])"
      ]
     },
     "execution_count": 7,
     "metadata": {},
     "output_type": "execute_result"
    }
   ],
   "source": [
    "#error\n",
    "def g_s_e(A,b,x):\n",
    "    error=1000000007\n",
    "#     last_x=x\n",
    "    m=len(A)\n",
    "    while error>0.001:\n",
    "        last_x=np.copy(x)\n",
    "        for j in range (m):\n",
    "            diff=b[j]\n",
    "            for k in range (0,m):\n",
    "                if j!=k:\n",
    "                    diff=diff-A[j][k]*x[k]\n",
    "            x[j]=(diff)/A[j][j]\n",
    "        error=max(abs(x-last_x))\n",
    "    return x\n",
    "A=np.array([[-6,2,1,2,1],[3,8,-4,1,0],[-1,1,4,10,1],[3,-4,1,9,2],[2,0,1,3,10]])\n",
    "b=np.array([3,4,-2,12,1])\n",
    "x=np.array([0.0,0.0,0.0,0.0,0.0])\n",
    "g_s_e(A,b,x)"
   ]
  },
  {
   "cell_type": "code",
   "execution_count": 11,
   "id": "fd220e47",
   "metadata": {},
   "outputs": [
    {
     "name": "stdout",
     "output_type": "stream",
     "text": [
      "2.0\n",
      "19.454545454545453\n"
     ]
    },
    {
     "data": {
      "image/png": "[encoded data removed]",
      "text/plain": [
       "<Figure size 432x288 with 1 Axes>"
      ]
     },
     "metadata": {
      "needs_background": "light"
     },
     "output_type": "display_data"
    }
   ],
   "source": [
    "#Q2 using scipy\n",
    "\n",
    "x=[1.0,2.1,5.0]\n",
    "y=[8.0,20.6,13.7]\n",
    "inter=interp1d(x,y)\n",
    "point=float(input())\n",
    "yout=inter(point)\n",
    "print(yout)\n",
    "plt.plot(x,y)\n",
    "plt.plot(point,yout,'ro')\n",
    "plt.show()"
   ]
  },
  {
   "cell_type": "code",
   "execution_count": 12,
   "id": "1f73706d",
   "metadata": {},
   "outputs": [
    {
     "name": "stdout",
     "output_type": "stream",
     "text": [
      "2.0\n",
      "19.454545454545453\n"
     ]
    }
   ],
   "source": [
    "# without using scipy\n",
    "data=[[1,8],[2.1,20.6],[5,13.7]]\n",
    "(x)=float(input())\n",
    "if (data[0][0]<(x)<data[1][0]):\n",
    "    y=data[0][1]+(x-data[0][0])*((data[1][1]-data[0][1])/(data[1][0]-data[0][0]))\n",
    "    print(y)\n",
    "if (data[1][0]<(x)<data[2][0]):\n",
    "    y=data[1][1]+(x-data[1][0])*((data[2][1]-data[1][1])/(data[2][0]-data[1][0]))\n",
    "    print(y)"
   ]
  },
  {
   "cell_type": "code",
   "execution_count": 21,
   "id": "a720ba00",
   "metadata": {},
   "outputs": [],
   "source": [
    "#general function for iterpolation\n",
    "\n",
    "def inter(x):\n",
    "    n=len(data)\n",
    "    for i in range(0,n-1):\n",
    "        if((x>=data[i][0])&(x<=data[i+1][0])):\n",
    "            y=data[i][1]+(x-data[i][0])*((data[i+1][1]-data[i][1])/(data[i+1][0]-data[i][0]))\n",
    "            return y\n"
   ]
  },
  {
   "cell_type": "code",
   "execution_count": 22,
   "id": "b6a80c96",
   "metadata": {},
   "outputs": [
    {
     "data": {
      "text/plain": [
       "19.648275862068967"
      ]
     },
     "execution_count": 22,
     "metadata": {},
     "output_type": "execute_result"
    }
   ],
   "source": [
    "inter(2.5)"
   ]
  },
  {
   "cell_type": "code",
   "execution_count": 23,
   "id": "5a8f6fdc",
   "metadata": {},
   "outputs": [],
   "source": [
    "#Q3 using scipy\n",
    "\n",
    "dfile=np.loadtxt(\"points.txt\",dtype='float')\n",
    "# print(dfile)"
   ]
  },
  {
   "cell_type": "code",
   "execution_count": 24,
   "id": "1a77ed80",
   "metadata": {},
   "outputs": [
    {
     "name": "stdout",
     "output_type": "stream",
     "text": [
      "[1.  1.1 1.2 1.3 1.4 1.5 1.6 1.7 1.8 1.9 2.  2.1 2.2 2.3 2.4 2.5 2.6 2.7\n",
      " 2.8 2.9 3.  3.1 3.2 3.3 3.4 3.5 3.6 3.7 3.8 3.9 4.  4.1 4.2 4.3 4.4 4.5\n",
      " 4.6 4.7 4.8 4.9 5. ]\n",
      "[1.45 1.5  1.55 1.6  1.65 1.71 1.76 1.82 1.88 1.94 2.   2.06 2.12 2.18\n",
      " 2.24 2.31 2.37 2.44 2.51 2.58 2.65 2.72 2.79 2.86 2.93 3.01 3.08 3.16\n",
      " 3.24 3.32 3.4  3.48 3.56 3.64 3.72 3.81 3.89 3.98 4.07 4.16 4.25]\n",
      "1.5\n",
      "1.71\n"
     ]
    },
    {
     "data": {
      "image/png": "[encoded data removed]",
      "text/plain": [
       "<Figure size 432x288 with 1 Axes>"
      ]
     },
     "metadata": {
      "needs_background": "light"
     },
     "output_type": "display_data"
    }
   ],
   "source": [
    "xn=np.loadtxt(\"points.txt\", usecols=0, dtype='float')\n",
    "print(xn)\n",
    "yn=np.loadtxt(\"points.txt\", usecols=1, dtype='float')\n",
    "print(yn)\n",
    "point=float(input())\n",
    "inter1=interp1d(xn,yn)\n",
    "yout=inter1(point)\n",
    "print(yout)\n",
    "plt.plot(xn,yn)\n",
    "plt.plot(point,yout,'ro')\n",
    "plt.show()"
   ]
  },
  {
   "cell_type": "code",
   "execution_count": 28,
   "id": "6296d6d2",
   "metadata": {},
   "outputs": [
    {
     "name": "stdout",
     "output_type": "stream",
     "text": [
      "1.5750000000000002\n"
     ]
    }
   ],
   "source": [
    "#without using scipy\n",
    "data=pd.read_table('points.txt')\n",
    "bigdata=np.array(data)\n",
    "def inter(x):\n",
    "    n=len(bigdata)\n",
    "    for i in range (0,n-1):\n",
    "        if ((x>=bigdata[i][0]) & (x<=bigdata[i+1][0])):\n",
    "            y=bigdata[i][1]+(x-bigdata[i][0])*((bigdata[i+1][1]-bigdata[i][1])/(bigdata[i+1][0]-bigdata[i][0]))\n",
    "            return y\n",
    "d1=inter(1.25)\n",
    "print(d1)"
   ]
  },
  {
   "cell_type": "code",
   "execution_count": null,
   "id": "02194163",
   "metadata": {},
   "outputs": [],
   "source": []
  }
 ],
 "metadata": {
  "kernelspec": {
   "display_name": "Python 3 (ipykernel)",
   "language": "python",
   "name": "python3"
  },
  "language_info": {
   "codemirror_mode": {
    "name": "ipython",
    "version": 3
   },
   "file_extension": ".py",
   "mimetype": "text/x-python",
   "name": "python",
   "nbconvert_exporter": "python",
   "pygments_lexer": "ipython3",
   "version": "3.9.7"
  }
 },
 "nbformat": 4,
 "nbformat_minor": 5
}
