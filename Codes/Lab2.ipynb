{
 "cells": [
  {
   "cell_type": "markdown",
   "id": "4c539b92",
   "metadata": {},
   "source": [
    "# Computer arithmatic 3"
   ]
  },
  {
   "cell_type": "code",
   "execution_count": 7,
   "id": "4ab64f6a",
   "metadata": {},
   "outputs": [],
   "source": [
    "import numpy as np\n",
    "import matplotlib.pyplot as plt\n",
    "import random\n",
    "import math"
   ]
  },
  {
   "cell_type": "code",
   "execution_count": 15,
   "id": "e234ce72",
   "metadata": {},
   "outputs": [
    {
     "name": "stdout",
     "output_type": "stream",
     "text": [
      "1\n",
      "200\n",
      "0.25958226088477854\n"
     ]
    },
    {
     "data": {
      "image/png": "[encoded data removed]",
      "text/plain": [
       "<Figure size 432x288 with 1 Axes>"
      ]
     },
     "metadata": {
      "needs_background": "light"
     },
     "output_type": "display_data"
    }
   ],
   "source": [
    "#Plotted for one case can check the graph for other cases as per the user input\n",
    "\n",
    "#(a)\n",
    "#for the range of problem select lower and upper bounds from the given ranges\n",
    "case=int(input())\n",
    "#select val for the number of iterations \n",
    "val=int(input())\n",
    "a_low=0\n",
    "a_up=1\n",
    "if case==1:\n",
    "    a_low=0\n",
    "    a_up=1\n",
    "elif case==2:\n",
    "    a_low=1\n",
    "    a_up=2\n",
    "elif case==3:\n",
    "    a_low=2\n",
    "    a_up=3\n",
    "elif case==4:\n",
    "    a_low=3\n",
    "    a_up=1+np.sqrt(6)\n",
    "x=np.random.random()\n",
    "print(x)\n",
    "A=random.uniform(a_low,a_up)\n",
    "A_ideal=(A-1)/A\n",
    "A_new=[]\n",
    "px=[]\n",
    "py=[]\n",
    "def myfunction(A,x):\n",
    "    return A*x*(1-x)\n",
    "for j in range (val-1):\n",
    "    py.append(x)\n",
    "    px.append(j)\n",
    "    A_new.append(A_ideal)\n",
    "    x=myfunction(A,x)\n",
    "    \n",
    "px=np.array(px)\n",
    "py=np.array(py)\n",
    "A_new=np.array(A_new)\n",
    "if case==1:\n",
    "    plt.plot(px,py)\n",
    "#     plt.plot(px,0*A_new)\n",
    "else:\n",
    "    plt.plot(px,py)\n",
    "#     plt.plot(px,A_new)\n"
   ]
  },
  {
   "cell_type": "code",
   "execution_count": 10,
   "id": "9e6531f0",
   "metadata": {},
   "outputs": [],
   "source": [
    "#(b)    \n",
    "#calculate x150\n",
    "def calculatemap(A,start,itr):\n",
    "    v=np.zeros(itr)\n",
    "    v[0]=start\n",
    "    for i in range(itr-1):\n",
    "        v[i+1]=A*(v[i]*(1-v[i]))\n",
    "    return v[itr-1]\n",
    "varyA=np.linspace(start=0.5,stop=3.99,num=250)\n",
    "# print (varyA)"
   ]
  },
  {
   "cell_type": "code",
   "execution_count": 12,
   "id": "9c2fb537",
   "metadata": {},
   "outputs": [
    {
     "data": {
      "text/plain": [
       "<matplotlib.collections.PathCollection at 0x7f9b3b8c0970>"
      ]
     },
     "execution_count": 12,
     "metadata": {},
     "output_type": "execute_result"
    },
    {
     "data": {
      "image/png": "[encoded data removed]",
      "text/plain": [
       "<Figure size 432x288 with 1 Axes>"
      ]
     },
     "metadata": {
      "needs_background": "light"
     },
     "output_type": "display_data"
    }
   ],
   "source": [
    "xinitial=0.8\n",
    "setitr=150\n",
    "pnx=[]\n",
    "for i in range (250):\n",
    "    see=calculatemap(varyA[i],xinitial,setitr)\n",
    "    pnx.append(see)\n",
    "plt.scatter(varyA,pnx)"
   ]
  },
  {
   "cell_type": "code",
   "execution_count": 13,
   "id": "1d278efa",
   "metadata": {},
   "outputs": [
    {
     "name": "stdout",
     "output_type": "stream",
     "text": [
      "0.965\n"
     ]
    },
    {
     "data": {
      "text/plain": [
       "[<matplotlib.lines.Line2D at 0x7f9b3b9b8130>]"
      ]
     },
     "execution_count": 13,
     "metadata": {},
     "output_type": "execute_result"
    },
    {
     "data": {
      "image/png": "[encoded data removed]",
      "text/plain": [
       "<Figure size 432x288 with 1 Axes>"
      ]
     },
     "metadata": {
      "needs_background": "light"
     },
     "output_type": "display_data"
    }
   ],
   "source": [
    "#(c)\n",
    "\n",
    "A=3.0\n",
    "ctr=2002\n",
    "x=float(input())\n",
    "xprime=x+0.01\n",
    "setitr=np.arange(ctr)\n",
    "x_=np.zeros(ctr)\n",
    "x_prime=np.zeros(ctr)\n",
    "for i in setitr:\n",
    "    x_[i]=x\n",
    "    x_prime[i]=xprime\n",
    "    x=A*x*(1-x)\n",
    "    xprime=A*xprime*(1-xprime)\n",
    "plt.plot(setitr,np.log(100*abs(x_-x_prime)))"
   ]
  },
  {
   "cell_type": "code",
   "execution_count": null,
   "id": "8e5bc944",
   "metadata": {},
   "outputs": [],
   "source": [
    "#plt.loglog(setitr,np.log(100*abs(x_-x_prime)))"
   ]
  },
  {
   "cell_type": "markdown",
   "id": "4907d53f",
   "metadata": {},
   "source": [
    "# Root Finding Bisection Method"
   ]
  },
  {
   "cell_type": "code",
   "execution_count": 14,
   "id": "d7b11c31",
   "metadata": {},
   "outputs": [
    {
     "name": "stdout",
     "output_type": "stream",
     "text": [
      "1.3572088082974534 \t 8.881784197001252e-16 \t 1.3572088082974532 \t 1.3572088082974534 \t 55\n",
      "1.3572088082974532\n"
     ]
    },
    {
     "data": {
      "text/plain": [
       "[<matplotlib.lines.Line2D at 0x7f9b3b805d90>]"
      ]
     },
     "execution_count": 14,
     "metadata": {},
     "output_type": "execute_result"
    },
    {
     "data": {
      "image/png": "[encoded data removed]",
      "text/plain": [
       "<Figure size 432x288 with 1 Axes>"
      ]
     },
     "metadata": {
      "needs_background": "light"
     },
     "output_type": "display_data"
    }
   ],
   "source": [
    "hi=5\n",
    "lo=-5\n",
    "\n",
    "\n",
    "def fun(x):\n",
    "    return 2*x*x*x-5\n",
    "\n",
    "midarray=[]\n",
    "itr=[]\n",
    "prevmid=-1000000007\n",
    "ctitr=0\n",
    "for i in range (100):\n",
    "    mid=(lo+hi)/2\n",
    "    midarray.append(mid)\n",
    "    itr.append(i)\n",
    "    if fun(mid)*fun(lo)<0:\n",
    "        hi=mid\n",
    "    elif fun(mid)*fun(hi)<0:\n",
    "        lo=mid\n",
    "    else:\n",
    "        print(mid)\n",
    "        break\n",
    "    if prevmid!=mid:\n",
    "        ctitr+=1\n",
    "        prevmid=mid\n",
    "    \n",
    "print(mid,'\\t',fun((lo+hi)/2),'\\t',lo,'\\t',hi,'\\t',ctitr)\n",
    "print((5/2)**(1/3))\n",
    "plt.plot(itr,midarray)"
   ]
  },
  {
   "cell_type": "code",
   "execution_count": null,
   "id": "8578ad77",
   "metadata": {},
   "outputs": [],
   "source": []
  }
 ],
 "metadata": {
  "kernelspec": {
   "display_name": "Python 3 (ipykernel)",
   "language": "python",
   "name": "python3"
  },
  "language_info": {
   "codemirror_mode": {
    "name": "ipython",
    "version": 3
   },
   "file_extension": ".py",
   "mimetype": "text/x-python",
   "name": "python",
   "nbconvert_exporter": "python",
   "pygments_lexer": "ipython3",
   "version": "3.9.7"
  }
 },
 "nbformat": 4,
 "nbformat_minor": 5
}
