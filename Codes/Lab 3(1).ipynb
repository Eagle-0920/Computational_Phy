{
 "cells": [
  {
   "cell_type": "markdown",
   "id": "5dde261c",
   "metadata": {},
   "source": [
    "# Root finding 2 (by Newton Rhapson method) \n",
    "# Q1"
   ]
  },
  {
   "cell_type": "code",
   "execution_count": 2,
   "id": "bba2f791",
   "metadata": {},
   "outputs": [],
   "source": [
    "import numpy as np\n",
    "import matplotlib.pyplot as plt\n",
    "import random\n",
    "import math"
   ]
  },
  {
   "cell_type": "code",
   "execution_count": 3,
   "id": "0d837707",
   "metadata": {},
   "outputs": [
    {
     "name": "stdout",
     "output_type": "stream",
     "text": [
      "0.062377576543465846\n"
     ]
    }
   ],
   "source": [
    "def fun(x):\n",
    "    return (x**3)-(0.165*(x**2))+(0.0003993)\n",
    "\n",
    "def derfun(x):\n",
    "    return (3*(x**2))-(0.330*(x))\n",
    "\n",
    "def newtonrhapson(x):\n",
    "    val=fun(x)/derfun(x)\n",
    "#     print(val)\n",
    "    while abs(val)>=0.0001:\n",
    "        val=fun(x)/derfun(x)\n",
    "        x=x-val\n",
    "        if abs(val)<=0.0001:\n",
    "            break\n",
    "#         print(val)\n",
    "    print(x)\n",
    "\n",
    "x0=0.05\n",
    "newtonrhapson(x0)"
   ]
  },
  {
   "cell_type": "code",
   "execution_count": 4,
   "id": "6316fda6",
   "metadata": {},
   "outputs": [
    {
     "ename": "ZeroDivisionError",
     "evalue": "float division by zero",
     "output_type": "error",
     "traceback": [
      "\u001b[0;31m---------------------------------------------------------------------------\u001b[0m",
      "\u001b[0;31mZeroDivisionError\u001b[0m                         Traceback (most recent call last)",
      "\u001b[0;32m/var/folders/8s/p2s64mhn4qq4f20cb7jrgsy40000gp/T/ipykernel_25193/1746460380.py\u001b[0m in \u001b[0;36m<module>\u001b[0;34m\u001b[0m\n\u001b[1;32m      1\u001b[0m \u001b[0mx1\u001b[0m\u001b[0;34m=\u001b[0m\u001b[0;36m0.11\u001b[0m\u001b[0;34m\u001b[0m\u001b[0;34m\u001b[0m\u001b[0m\n\u001b[0;32m----> 2\u001b[0;31m \u001b[0mnewtonrhapson\u001b[0m\u001b[0;34m(\u001b[0m\u001b[0mx1\u001b[0m\u001b[0;34m)\u001b[0m\u001b[0;34m\u001b[0m\u001b[0;34m\u001b[0m\u001b[0m\n\u001b[0m",
      "\u001b[0;32m/var/folders/8s/p2s64mhn4qq4f20cb7jrgsy40000gp/T/ipykernel_25193/3093761340.py\u001b[0m in \u001b[0;36mnewtonrhapson\u001b[0;34m(x)\u001b[0m\n\u001b[1;32m      6\u001b[0m \u001b[0;34m\u001b[0m\u001b[0m\n\u001b[1;32m      7\u001b[0m \u001b[0;32mdef\u001b[0m \u001b[0mnewtonrhapson\u001b[0m\u001b[0;34m(\u001b[0m\u001b[0mx\u001b[0m\u001b[0;34m)\u001b[0m\u001b[0;34m:\u001b[0m\u001b[0;34m\u001b[0m\u001b[0;34m\u001b[0m\u001b[0m\n\u001b[0;32m----> 8\u001b[0;31m     \u001b[0mval\u001b[0m\u001b[0;34m=\u001b[0m\u001b[0mfun\u001b[0m\u001b[0;34m(\u001b[0m\u001b[0mx\u001b[0m\u001b[0;34m)\u001b[0m\u001b[0;34m/\u001b[0m\u001b[0mderfun\u001b[0m\u001b[0;34m(\u001b[0m\u001b[0mx\u001b[0m\u001b[0;34m)\u001b[0m\u001b[0;34m\u001b[0m\u001b[0;34m\u001b[0m\u001b[0m\n\u001b[0m\u001b[1;32m      9\u001b[0m \u001b[0;31m#     print(val)\u001b[0m\u001b[0;34m\u001b[0m\u001b[0;34m\u001b[0m\u001b[0m\n\u001b[1;32m     10\u001b[0m     \u001b[0;32mwhile\u001b[0m \u001b[0mabs\u001b[0m\u001b[0;34m(\u001b[0m\u001b[0mval\u001b[0m\u001b[0;34m)\u001b[0m\u001b[0;34m>=\u001b[0m\u001b[0;36m0.0001\u001b[0m\u001b[0;34m:\u001b[0m\u001b[0;34m\u001b[0m\u001b[0;34m\u001b[0m\u001b[0m\n",
      "\u001b[0;31mZeroDivisionError\u001b[0m: float division by zero"
     ]
    }
   ],
   "source": [
    "x1=0.11\n",
    "newtonrhapson(x1)"
   ]
  },
  {
   "cell_type": "code",
   "execution_count": 5,
   "id": "0291973a",
   "metadata": {},
   "outputs": [
    {
     "data": {
      "text/plain": [
       "0.0"
      ]
     },
     "execution_count": 5,
     "metadata": {},
     "output_type": "execute_result"
    }
   ],
   "source": [
    "derfun(0.11)\n",
    "# 0.11 is a root  of the derivative"
   ]
  },
  {
   "cell_type": "markdown",
   "id": "774a14a7",
   "metadata": {},
   "source": [
    "### (c):taking derivative we can see both terms are x dependent so one of the cases of no solution can be at zero\n"
   ]
  },
  {
   "cell_type": "code",
   "execution_count": 6,
   "id": "4d8b75cc",
   "metadata": {},
   "outputs": [
    {
     "data": {
      "text/plain": [
       "[<matplotlib.lines.Line2D at 0x7fd369559670>]"
      ]
     },
     "execution_count": 6,
     "metadata": {},
     "output_type": "execute_result"
    },
    {
     "data": {
      "image/png": "[encoded data removed]",
      "text/plain": [
       "<Figure size 432x288 with 1 Axes>"
      ]
     },
     "metadata": {
      "needs_background": "light"
     },
     "output_type": "display_data"
    }
   ],
   "source": [
    "__allx__=[]\n",
    "__ally__=[]\n",
    "\n",
    "for i in range (-5,20):\n",
    "    __allx__.append(i*0.01)\n",
    "\n",
    "for j in __allx__:\n",
    "    ans=fun(j)\n",
    "    __ally__.append(ans)\n",
    "plt.plot(__allx__,__ally__)\n",
    "na=np.array(__allx__)\n",
    "nb=np.array(__ally__)\n",
    "plt.plot(na,nb*0,'r')"
   ]
  },
  {
   "cell_type": "code",
   "execution_count": 7,
   "id": "af0234d4",
   "metadata": {},
   "outputs": [
    {
     "name": "stdout",
     "output_type": "stream",
     "text": [
      "[0.1, 0.01, 0.001, 0.0001, 1e-05, 1e-06, 1e-07, 1e-08, 1e-09, 1e-10, 1e-11, 1e-12, 1e-13, 1e-14, 1e-15, 1e-16, 1e-17]\n",
      "[1, 1, 1, 1, 1, 1, 2, 2, 2, 2, 3, 3, 3, 3, 3, 3, 3]\n"
     ]
    },
    {
     "data": {
      "image/png": "[encoded data removed]",
      "text/plain": [
       "<Figure size 432x288 with 1 Axes>"
      ]
     },
     "metadata": {
      "needs_background": "light"
     },
     "output_type": "display_data"
    }
   ],
   "source": [
    "liste=[]\n",
    "i=10\n",
    "while i <1e18:\n",
    "    v=1\n",
    "    v=v/i\n",
    "    liste.append(v)\n",
    "    i=i*10\n",
    "print(liste)\n",
    "\n",
    "\n",
    "ctitr=[]\n",
    "for k in liste:\n",
    "    ok=0.05\n",
    "    rem=0\n",
    "    for j in range (1,18):\n",
    "        rem=fun(ok)/derfun(ok)\n",
    "        ok = ok-rem\n",
    "        if abs(fun(ok))<k:\n",
    "#             print(abs(fun(ok)-k))\n",
    "            ctitr.append(j)\n",
    "            break\n",
    "print(ctitr)       \n",
    "plt.plot(liste,ctitr)\n",
    "plt.xscale('log')\n",
    "plt.yscale('log')"
   ]
  },
  {
   "cell_type": "markdown",
   "id": "40ab73dd",
   "metadata": {},
   "source": [
    "# Q2 "
   ]
  },
  {
   "cell_type": "code",
   "execution_count": 11,
   "id": "607efae0",
   "metadata": {},
   "outputs": [
    {
     "name": "stdout",
     "output_type": "stream",
     "text": [
      "10\n",
      "0.09999999999999999\n",
      "-0.0\n"
     ]
    },
    {
     "data": {
      "text/plain": [
       "[<matplotlib.lines.Line2D at 0x7fd3667389d0>]"
      ]
     },
     "execution_count": 11,
     "metadata": {},
     "output_type": "execute_result"
    },
    {
     "data": {
      "image/png": "[encoded data removed]",
      "text/plain": [
       "<Figure size 432x288 with 1 Axes>"
      ]
     },
     "metadata": {
      "needs_background": "light"
     },
     "output_type": "display_data"
    }
   ],
   "source": [
    "def inverse(x,a):\n",
    "    return 1/x-(a)\n",
    "def newder(x):\n",
    "    return -1/(x**2)    \n",
    "a=float(input())#input number you want to find inverse of\n",
    "# oki=random.uniform(0,2/a)\n",
    "oki=0.001\n",
    "val=inverse(oki,a)/newder(oki)\n",
    "xer=[]\n",
    "yer=[]\n",
    "yr=[]\n",
    "for itr in range (50):\n",
    "    val=inverse(oki,a)/newder(oki)\n",
    "    oki=oki-val\n",
    "    if abs(val)<=1e-15:\n",
    "        break\n",
    "    itr+=1\n",
    "    xer.append(itr)\n",
    "    yer.append(oki)\n",
    "    yr.append((1/a)-oki)\n",
    "    \n",
    "print(oki)#inverse of number\n",
    "# print(itr)\n",
    "print(val)\n",
    "# print(xer)\n",
    "# print(yer)\n",
    "# print(yr)\n",
    "plt.plot(xer,yer)\n",
    "    \n",
    "    \n"
   ]
  },
  {
   "cell_type": "code",
   "execution_count": 12,
   "id": "247014a1",
   "metadata": {},
   "outputs": [
    {
     "data": {
      "text/plain": [
       "[<matplotlib.lines.Line2D at 0x7fd36a08f940>]"
      ]
     },
     "execution_count": 12,
     "metadata": {},
     "output_type": "execute_result"
    },
    {
     "data": {
      "image/png": "[encoded data removed]",
      "text/plain": [
       "<Figure size 432x288 with 1 Axes>"
      ]
     },
     "metadata": {
      "needs_background": "light"
     },
     "output_type": "display_data"
    }
   ],
   "source": [
    "plt.plot(xer,yr)\n"
   ]
  },
  {
   "cell_type": "markdown",
   "id": "cfb7b7c0",
   "metadata": {},
   "source": [
    "# Diagonal Dominance\n",
    "# Q3"
   ]
  },
  {
   "cell_type": "code",
   "execution_count": null,
   "id": "464a3c26",
   "metadata": {},
   "outputs": [],
   "source": [
    "A=np.array([[-6,2,1,2,1],[3,8,-4,1,0],[-1,1,4,10,1],[3,-4,1,9,2],[2,0,1,3,10]])\n",
    "r=5\n",
    "c=5\n",
    "dummy=0\n",
    "for i in range (r):\n",
    "    sumd=0\n",
    "    sumnd=0\n",
    "    for j in range (c):\n",
    "        if i==j:\n",
    "            sumd=abs(sumd+abs(A[i][j]))\n",
    "        else:\n",
    "            sumnd=abs(sumnd+abs(A[i][j]))\n",
    "    if sumd>=sumnd:\n",
    "        continue\n",
    "    else:\n",
    "        dummy=1\n",
    "        print(\"A is not diagonally dominant for row:\",i)# 0 indexing\n",
    "if dummy==0:\n",
    "    print(\"A is not diagonally dominant\")\n",
    "else:\n",
    "    print(\"A is not diagonally dominant\")"
   ]
  },
  {
   "cell_type": "code",
   "execution_count": null,
   "id": "f702e615",
   "metadata": {},
   "outputs": [],
   "source": [
    "B=np.array([[18,3,6,-3],[9,13,-5,2],[-3,-2,4,9],[6,0,11,3]])\n",
    "r=4\n",
    "c=4\n",
    "dummy=0\n",
    "for i in range (r):\n",
    "    sumd=0\n",
    "    sumnd=0\n",
    "    for j in range (c):\n",
    "        if i==j:\n",
    "            sumd=abs(sumd+abs(B[i][j]))\n",
    "        else:\n",
    "            sumnd=abs(sumnd+abs(B[i][j]))\n",
    "    if sumd>=sumnd:\n",
    "        continue\n",
    "    else:\n",
    "        dummy=1\n",
    "        print(\"B is not diagonally dominant for row:\",i)# 0 indexing\n",
    "if dummy==0:\n",
    "    print(\"B is not diagonally dominant\")\n",
    "else:\n",
    "    print(\"B is not diagonally dominant\")"
   ]
  },
  {
   "cell_type": "code",
   "execution_count": null,
   "id": "e7118040",
   "metadata": {},
   "outputs": [],
   "source": []
  }
 ],
 "metadata": {
  "kernelspec": {
   "display_name": "Python 3 (ipykernel)",
   "language": "python",
   "name": "python3"
  },
  "language_info": {
   "codemirror_mode": {
    "name": "ipython",
    "version": 3
   },
   "file_extension": ".py",
   "mimetype": "text/x-python",
   "name": "python",
   "nbconvert_exporter": "python",
   "pygments_lexer": "ipython3",
   "version": "3.9.7"
  }
 },
 "nbformat": 4,
 "nbformat_minor": 5
}
