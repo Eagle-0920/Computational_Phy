{
 "cells": [
  {
   "cell_type": "code",
   "execution_count": 145,
   "id": "b151f66d",
   "metadata": {},
   "outputs": [],
   "source": [
    "import numpy as np\n",
    "import matplotlib.pyplot as plt\n",
    "from scipy.integrate import simps"
   ]
  },
  {
   "cell_type": "markdown",
   "id": "22cc2d8d",
   "metadata": {},
   "source": [
    "# Numerical integration 1:"
   ]
  },
  {
   "cell_type": "code",
   "execution_count": 146,
   "id": "90c96a69",
   "metadata": {},
   "outputs": [
    {
     "data": {
      "text/plain": [
       "[<matplotlib.lines.Line2D at 0x7fac6b4398e0>]"
      ]
     },
     "execution_count": 146,
     "metadata": {},
     "output_type": "execute_result"
    },
    {
     "data": {
      "image/png": "[encoded data removed]",
      "text/plain": [
       "<Figure size 432x288 with 1 Axes>"
      ]
     },
     "metadata": {
      "needs_background": "light"
     },
     "output_type": "display_data"
    }
   ],
   "source": [
    "x=[1.34,1.46,1.52,1.6,1.87,2.03,2.18,2.8,3.2,3.8,4.15]\n",
    "fx=[1.5,2.3,2.3,2.4,2.5,3.2,4.9,4.7,3.4,7.8,17.1]\n",
    "x=np.array(x)\n",
    "fx=np.array(fx)\n",
    "plt.plot(x,fx)\n"
   ]
  },
  {
   "cell_type": "code",
   "execution_count": 147,
   "id": "e0d21bbf",
   "metadata": {},
   "outputs": [
    {
     "name": "stdout",
     "output_type": "stream",
     "text": [
      "14.592500000000005\n"
     ]
    }
   ],
   "source": [
    "s=np.sum(([x[1:]-x[:-1]])*(fx[1:]+fx[:-1])/2)\n",
    "res=0\n",
    "n=len(x)\n",
    "for i in range (n-1):\n",
    "    res+=(0.5)*((x[i+1]-x[i])*(fx[i+1]+fx[i]))\n",
    "# print(s)\n",
    "print(res)"
   ]
  },
  {
   "cell_type": "markdown",
   "id": "2dfd0710",
   "metadata": {},
   "source": [
    "# Numerical Integration 2"
   ]
  },
  {
   "cell_type": "code",
   "execution_count": 148,
   "id": "62bb71cf",
   "metadata": {},
   "outputs": [
    {
     "name": "stdout",
     "output_type": "stream",
     "text": [
      "0.6666679382324219\n",
      "1.9999984312683834\n",
      "1.570201613064376\n"
     ]
    },
    {
     "data": {
      "text/plain": [
       "[<matplotlib.lines.Line2D at 0x7fac6a4cb0d0>]"
      ]
     },
     "execution_count": 148,
     "metadata": {},
     "output_type": "execute_result"
    },
    {
     "data": {
      "image/png": "[encoded data removed]",
      "text/plain": [
       "<Figure size 432x288 with 1 Axes>"
      ]
     },
     "metadata": {
      "needs_background": "light"
     },
     "output_type": "display_data"
    }
   ],
   "source": [
    "#USING trapezoidal rule\n",
    "\n",
    "def f1(x):\n",
    "    return x**2\n",
    "def f2(x):\n",
    "    return np.sin(x)\n",
    "def f3(x):\n",
    "    return ((np.sin(x))/x)**2\n",
    "\n",
    "def trap(f,a,b,N):\n",
    "    ans = 0\n",
    "    delx=(b-a)/N\n",
    "    ans+=f(a)+f(b)\n",
    "    for i in range(1,N):\n",
    "        tempx=a+i*delx\n",
    "        ans=ans+(2*f(tempx))\n",
    "    return ans*delx/2\n",
    "print(trap(f1,-1,1,1024))\n",
    "print(trap(f2,0,np.pi,1024))\n",
    "print(trap(f3,0.0001,1000,1024))\n",
    "\n",
    "\n",
    "#error plot\n",
    "\n",
    "ana1=2/3\n",
    "ana2=2\n",
    "ana3=np.pi/2\n",
    "\n",
    "e=np.zeros(10)\n",
    "NVA=[]\n",
    "for i in range(10):\n",
    "    NVA.append(2**(i+1))\n",
    "NVAL=np.array(NVA)\n",
    "yN=np.zeros(10)\n",
    "for i in range(10):\n",
    "    yN[i]=trap(f3,0.0001,10000,NVAL[i])#change here\n",
    "yANA=np.zeros(10)\n",
    "for i in range(10):\n",
    "    yANA[i]=ana3#change here\n",
    "for i in range(10):\n",
    "    e[i]=abs(yN[i]-yANA[i])/abs(yANA[i])\n",
    "plt.loglog(NVAL,e)"
   ]
  },
  {
   "cell_type": "code",
   "execution_count": 149,
   "id": "aeb8bba3",
   "metadata": {},
   "outputs": [
    {
     "name": "stdout",
     "output_type": "stream",
     "text": [
      "0.6666666666666666\n",
      "2.0000000000009828\n",
      "1.5701953464048342\n"
     ]
    },
    {
     "data": {
      "text/plain": [
       "[<matplotlib.lines.Line2D at 0x7fac672dbb50>]"
      ]
     },
     "execution_count": 149,
     "metadata": {},
     "output_type": "execute_result"
    },
    {
     "data": {
      "image/png": "[encoded data removed]",
      "text/plain": [
       "<Figure size 432x288 with 1 Axes>"
      ]
     },
     "metadata": {
      "needs_background": "light"
     },
     "output_type": "display_data"
    }
   ],
   "source": [
    "# USING simpson rule\n",
    "\n",
    "def f1(x):\n",
    "    return x**2\n",
    "def f2(x):\n",
    "    return np.sin(x)\n",
    "def f3(x):\n",
    "    return ((np.sin(x))/x)**2\n",
    "\n",
    "def simp(f,a,b,N):\n",
    "    res=f(a)+f(b)\n",
    "    deltax=(b-a)/N\n",
    "    for i in range(1,N):\n",
    "        s=a+i*deltax\n",
    "        if i%2:\n",
    "            res+=4*f(s)\n",
    "        else:\n",
    "            res+=2*f(s)\n",
    "    return res*deltax*(1/3)\n",
    "print(simp(f1,-1,1,1024))\n",
    "print(simp(f2,0,np.pi,1024))\n",
    "print(simp(f3,0.0001,1000,1024))\n",
    "\n",
    "# error plot\n",
    "\n",
    "ana1=2/3\n",
    "ana2=2\n",
    "ana3=np.pi/2\n",
    "#print(ana1)\n",
    "e=np.zeros(10)\n",
    "NVA=[]\n",
    "for i in range(10):\n",
    "    NVA.append(2**(i+1))\n",
    "NVAL=np.array(NVA)\n",
    "yN=np.zeros(10)\n",
    "for i in range(10):\n",
    "    yN[i]=simp(f2,0,np.pi,NVAL[i])#change here f,a,b\n",
    "yANA=np.zeros(10)\n",
    "for i in range(10):\n",
    "    yANA[i]=ana2#change here ana value\n",
    "for i in range(10):\n",
    "    e[i]=abs(yN[i]-yANA[i])/abs(yANA[i])\n",
    "plt.loglog(NVAL,e)"
   ]
  },
  {
   "cell_type": "markdown",
   "id": "c67f1e70",
   "metadata": {},
   "source": [
    "# Numerical Integration 4"
   ]
  },
  {
   "cell_type": "code",
   "execution_count": 197,
   "id": "14aa5353",
   "metadata": {},
   "outputs": [],
   "source": [
    "def sh(z):\n",
    "    return (1/np.pi)*1/((1-z**2)**0.5)\n",
    "def Tp(a,b,n):\n",
    "    delx=(b-a)/n\n",
    "    v1=sh(a)\n",
    "    v2=sh(b)\n",
    "    ans=v1+v2\n",
    "    for i in range(1,n):\n",
    "        y=a+i*delx\n",
    "        ans=ans+(2*sh(y))\n",
    "    return ((delx/2)*ans)"
   ]
  },
  {
   "cell_type": "code",
   "execution_count": 227,
   "id": "3481b136",
   "metadata": {},
   "outputs": [
    {
     "data": {
      "text/plain": [
       "[<matplotlib.lines.Line2D at 0x7fac6e37ee20>]"
      ]
     },
     "execution_count": 227,
     "metadata": {},
     "output_type": "execute_result"
    },
    {
     "data": {
      "image/png": "[encoded data removed]",
      "text/plain": [
       "<Figure size 432x288 with 1 Axes>"
      ]
     },
     "metadata": {
      "needs_background": "light"
     },
     "output_type": "display_data"
    }
   ],
   "source": [
    "er=[]\n",
    "for i in range(1,10):\n",
    "    er.append(10**(-i))\n",
    "er=np.array(er)\n",
    "timper=[]\n",
    "for i in er:\n",
    "    timper.append(Tp(-1+i,1-i,1000))\n",
    "#     print(Tp(-1+i,1-i,1000))\n",
    "plt.loglog(timper,er)"
   ]
  },
  {
   "cell_type": "code",
   "execution_count": 226,
   "id": "36030ebd",
   "metadata": {},
   "outputs": [
    {
     "data": {
      "text/plain": [
       "1.0135984908798374"
      ]
     },
     "execution_count": 226,
     "metadata": {},
     "output_type": "execute_result"
    }
   ],
   "source": [
    "resTp=Tp(-1+er[3],1-er[3],1024)\n",
    "#Choosing er[3] i.e. 10^-4 we get a good approximation of trapezoidal rule i.e. a value close to 1 as \n",
    "#analytical value is close to 1\n",
    "resTp"
   ]
  },
  {
   "cell_type": "markdown",
   "id": "456b94bf",
   "metadata": {},
   "source": []
  }
 ],
 "metadata": {
  "kernelspec": {
   "display_name": "Python 3 (ipykernel)",
   "language": "python",
   "name": "python3"
  },
  "language_info": {
   "codemirror_mode": {
    "name": "ipython",
    "version": 3
   },
   "file_extension": ".py",
   "mimetype": "text/x-python",
   "name": "python",
   "nbconvert_exporter": "python",
   "pygments_lexer": "ipython3",
   "version": "3.9.7"
  }
 },
 "nbformat": 4,
 "nbformat_minor": 5
}
